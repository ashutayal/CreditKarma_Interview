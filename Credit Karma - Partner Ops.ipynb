{
 "cells": [
  {
   "cell_type": "code",
   "execution_count": 1,
   "metadata": {},
   "outputs": [],
   "source": [
    "# author: Ashu Tayal\n",
    "# Wed, Mar 17 2021\n",
    "import requests\n",
    "import pandas as pd\n",
    "from bs4 import BeautifulSoup\n",
    "import time \n",
    "from selenium import webdriver\n",
    "import os\n",
    "import csv"
   ]
  },
  {
   "cell_type": "markdown",
   "metadata": {},
   "source": [
    "# Discovercard.com"
   ]
  },
  {
   "cell_type": "code",
   "execution_count": 2,
   "metadata": {},
   "outputs": [],
   "source": [
    "# discovercard.com\n",
    "url = 'https://www.discovercard.com/application/website/ratesrewards?srcCde=GEGX&8&irgwc=1&gclid=_yy6dgezjcckfqlsgkk0sohzidf2xpmp3vbymrxs100&sid=0&pid=156490&aid=568217&source=Affiliates&sku=109'\n",
    "headers = {\n",
    "    'user-agent': 'Mozilla/5.0 (Macintosh; Intel Mac OS X 11_2_2) AppleWebKit/537.36 (KHTML, like Gecko) Chrome/89.0.4389.82 Safari/537.36'}\n",
    "response = requests.get(url, headers=headers)\n",
    "soup = BeautifulSoup(response.text, 'lxml')"
   ]
  },
  {
   "cell_type": "code",
   "execution_count": 3,
   "metadata": {},
   "outputs": [],
   "source": [
    "def summary(name):\n",
    "    table = pd.DataFrame(columns=[\"Variable\",name])\n",
    "\n",
    "    variables = {'Annual Fee': fee_annual,\n",
    "                 'Regular Puchase APR': apr_purchase, \n",
    "                 'Regular Balance Transfer APR': apr_transfer,\n",
    "                 'Cash Advance APR': apr_cash,\n",
    "                 'Cash Advance Fee': fee_cash}\n",
    "\n",
    "    for key, value in variables.items():\n",
    "        table = table.append({'Variable': key,\n",
    "                              name: value}, ignore_index = True)\n",
    "    return(table)"
   ]
  },
  {
   "cell_type": "code",
   "execution_count": 4,
   "metadata": {},
   "outputs": [],
   "source": [
    "# Interest Rates\n",
    "fgir = soup.find_all('div', class_ = 'flex-grid interest-row')"
   ]
  },
  {
   "cell_type": "code",
   "execution_count": 5,
   "metadata": {},
   "outputs": [
    {
     "data": {
      "text/plain": [
       "<div class=\"flex-grid interest-row\">\n",
       "<h5 class=\"col-small\">Annual Percentage Rate (APR) for Purchases</h5>\n",
       "<div class=\"col-medium\">\n",
       "<p class=\"apr-value purchase-rate-apr apr-value-big\">22.99%</p>\n",
       "<p>This APR will vary with the market based on the Prime Rate.</p>\n",
       "</div>\n",
       "</div>"
      ]
     },
     "execution_count": 5,
     "metadata": {},
     "output_type": "execute_result"
    }
   ],
   "source": [
    "fgir[0] # Purchases APR"
   ]
  },
  {
   "cell_type": "code",
   "execution_count": 6,
   "metadata": {},
   "outputs": [
    {
     "data": {
      "text/plain": [
       "'22.99%'"
      ]
     },
     "execution_count": 6,
     "metadata": {},
     "output_type": "execute_result"
    }
   ],
   "source": [
    "apr_purchase = soup.find(\"p\", {\"class\" : \"apr-value purchase-rate-apr apr-value-big\"}).text\n",
    "apr_purchase"
   ]
  },
  {
   "cell_type": "code",
   "execution_count": 7,
   "metadata": {},
   "outputs": [
    {
     "data": {
      "text/plain": [
       "<div class=\"flex-grid interest-row\">\n",
       "<h5 class=\"col-small\">APR for Balance Transfers</h5>\n",
       "<div class=\"col-medium apr-for-balance-transfers\">\n",
       "<p>\n",
       "<b class=\"balance-transfer-rate\">10.99%</b>\n",
       "                        intro APR for 6 months from date of first\n",
       "                        transfer, for transfers that post to your account\n",
       "                        by June 10, 2021.\n",
       "                    </p>\n",
       "<p class=\"indented-paragraph\">\n",
       "                        After the intro APR expires, your APR will be <b class=\"after-the-intro-apr-expires-apr\">22.99%</b> This APR\n",
       "                        will vary with the market\n",
       "                        based on the Prime Rate.\n",
       "                    </p>\n",
       "</div>\n",
       "</div>"
      ]
     },
     "execution_count": 7,
     "metadata": {},
     "output_type": "execute_result"
    }
   ],
   "source": [
    "fgir[1] # Balance Transfer APR"
   ]
  },
  {
   "cell_type": "code",
   "execution_count": 8,
   "metadata": {},
   "outputs": [
    {
     "data": {
      "text/plain": [
       "'10.99%'"
      ]
     },
     "execution_count": 8,
     "metadata": {},
     "output_type": "execute_result"
    }
   ],
   "source": [
    "apr_transfer = soup.find(\"b\", {\"class\" : \"balance-transfer-rate\"}).text\n",
    "apr_transfer"
   ]
  },
  {
   "cell_type": "code",
   "execution_count": 9,
   "metadata": {},
   "outputs": [
    {
     "data": {
      "text/plain": [
       "<div class=\"flex-grid interest-row\">\n",
       "<h5 class=\"col-small\">APR for Cash Advances</h5>\n",
       "<div class=\"col-medium\">\n",
       "<p><b class=\"cash-rate\">24.99%</b></p>\n",
       "<p class=\"indented-paragraph\">This APR will vary with the market based on the Prime Rate.</p>\n",
       "</div>\n",
       "</div>"
      ]
     },
     "execution_count": 9,
     "metadata": {},
     "output_type": "execute_result"
    }
   ],
   "source": [
    "fgir[2] # Cash Advanced APR"
   ]
  },
  {
   "cell_type": "code",
   "execution_count": 10,
   "metadata": {},
   "outputs": [
    {
     "data": {
      "text/plain": [
       "'24.99%'"
      ]
     },
     "execution_count": 10,
     "metadata": {},
     "output_type": "execute_result"
    }
   ],
   "source": [
    "apr_cash = soup.find(\"b\", {\"class\" : \"cash-rate\"}).text\n",
    "apr_cash"
   ]
  },
  {
   "cell_type": "code",
   "execution_count": 11,
   "metadata": {},
   "outputs": [],
   "source": [
    "# Fees\n",
    "fees = soup.find_all('div', class_ = 'flex-grid fee-row')"
   ]
  },
  {
   "cell_type": "code",
   "execution_count": 12,
   "metadata": {},
   "outputs": [
    {
     "data": {
      "text/plain": [
       "<div class=\"flex-grid fee-row\">\n",
       "<div class=\"col-small\">Annual Fee</div>\n",
       "<div class=\"col-medium\"><b>None</b></div>\n",
       "</div>"
      ]
     },
     "execution_count": 12,
     "metadata": {},
     "output_type": "execute_result"
    }
   ],
   "source": [
    "fees[0] # Annual Fees"
   ]
  },
  {
   "cell_type": "code",
   "execution_count": 13,
   "metadata": {},
   "outputs": [
    {
     "data": {
      "text/plain": [
       "'None'"
      ]
     },
     "execution_count": 13,
     "metadata": {},
     "output_type": "execute_result"
    }
   ],
   "source": [
    "fee_annual = fees[0].find(\"div\", {\"class\" : \"col-medium\"}).text\n",
    "fee_annual"
   ]
  },
  {
   "cell_type": "code",
   "execution_count": 14,
   "metadata": {},
   "outputs": [
    {
     "data": {
      "text/plain": [
       "'Intro fee of 3% of the amount of each transfer for transfers that post to your account by June 10, 2021 with the 10.99% intro APR balance transfer offer described above. After that, 5% of the amount of each transfer.'"
      ]
     },
     "execution_count": 14,
     "metadata": {},
     "output_type": "execute_result"
    }
   ],
   "source": [
    "transfer_fee = soup.find_all('div', class_ = 'flex-grid fee-row balance-transfer-fee') # Balance Transfer Fee\n",
    "transfer_fee = transfer_fee[0].find('p').text.strip().replace('\\n', ' ').replace('  ', '')\n",
    "transfer_fee"
   ]
  },
  {
   "cell_type": "code",
   "execution_count": 15,
   "metadata": {},
   "outputs": [
    {
     "data": {
      "text/plain": [
       "<div class=\"flex-grid fee-row\">\n",
       "<div class=\"col-small\">Cash Advance</div>\n",
       "<div class=\"col-medium\">\n",
       "                Either <b>$10</b> or <b>5%</b> of the amount of each cash advance, whichever is greater.\n",
       "            </div>\n",
       "</div>"
      ]
     },
     "execution_count": 15,
     "metadata": {},
     "output_type": "execute_result"
    }
   ],
   "source": [
    "fees[2] # Cash Advance Fee (Intro)"
   ]
  },
  {
   "cell_type": "code",
   "execution_count": 16,
   "metadata": {},
   "outputs": [
    {
     "data": {
      "text/plain": [
       "'Either $10 or 5% of the amount of each cash advance, whichever is greater.'"
      ]
     },
     "execution_count": 16,
     "metadata": {},
     "output_type": "execute_result"
    }
   ],
   "source": [
    "fee_cash = fees[2].find(\"div\", {\"class\" : \"col-medium\"}).text\n",
    "fee_cash = fee_cash.strip()\n",
    "fee_cash"
   ]
  },
  {
   "cell_type": "code",
   "execution_count": 17,
   "metadata": {},
   "outputs": [
    {
     "data": {
      "text/html": [
       "<div>\n",
       "<style scoped>\n",
       "    .dataframe tbody tr th:only-of-type {\n",
       "        vertical-align: middle;\n",
       "    }\n",
       "\n",
       "    .dataframe tbody tr th {\n",
       "        vertical-align: top;\n",
       "    }\n",
       "\n",
       "    .dataframe thead th {\n",
       "        text-align: right;\n",
       "    }\n",
       "</style>\n",
       "<table border=\"1\" class=\"dataframe\">\n",
       "  <thead>\n",
       "    <tr style=\"text-align: right;\">\n",
       "      <th></th>\n",
       "      <th>Variable</th>\n",
       "      <th>discovercard.com</th>\n",
       "    </tr>\n",
       "  </thead>\n",
       "  <tbody>\n",
       "    <tr>\n",
       "      <th>0</th>\n",
       "      <td>Annual Fee</td>\n",
       "      <td>None</td>\n",
       "    </tr>\n",
       "    <tr>\n",
       "      <th>1</th>\n",
       "      <td>Regular Puchase APR</td>\n",
       "      <td>22.99%</td>\n",
       "    </tr>\n",
       "    <tr>\n",
       "      <th>2</th>\n",
       "      <td>Regular Balance Transfer APR</td>\n",
       "      <td>10.99%</td>\n",
       "    </tr>\n",
       "    <tr>\n",
       "      <th>3</th>\n",
       "      <td>Cash Advance APR</td>\n",
       "      <td>24.99%</td>\n",
       "    </tr>\n",
       "    <tr>\n",
       "      <th>4</th>\n",
       "      <td>Cash Advance Fee</td>\n",
       "      <td>Either $10 or 5% of the amount of each cash ad...</td>\n",
       "    </tr>\n",
       "  </tbody>\n",
       "</table>\n",
       "</div>"
      ],
      "text/plain": [
       "                       Variable  \\\n",
       "0                    Annual Fee   \n",
       "1           Regular Puchase APR   \n",
       "2  Regular Balance Transfer APR   \n",
       "3              Cash Advance APR   \n",
       "4              Cash Advance Fee   \n",
       "\n",
       "                                    discovercard.com  \n",
       "0                                               None  \n",
       "1                                             22.99%  \n",
       "2                                             10.99%  \n",
       "3                                             24.99%  \n",
       "4  Either $10 or 5% of the amount of each cash ad...  "
      ]
     },
     "execution_count": 17,
     "metadata": {},
     "output_type": "execute_result"
    }
   ],
   "source": [
    "discover = summary('discovercard.com')\n",
    "discover"
   ]
  },
  {
   "cell_type": "markdown",
   "metadata": {},
   "source": [
    "# Credit Karma Website"
   ]
  },
  {
   "cell_type": "code",
   "execution_count": 18,
   "metadata": {},
   "outputs": [
    {
     "data": {
      "text/plain": [
       "False"
      ]
     },
     "execution_count": 18,
     "metadata": {},
     "output_type": "execute_result"
    }
   ],
   "source": [
    "# creditkarma.com\n",
    "\n",
    "url = 'https://www.creditkarma.com/creditcard/CCDiscover06'\n",
    "headers = {\n",
    "    'user-agent': 'Mozilla/5.0 (Macintosh; Intel Mac OS X 11_2_2) AppleWebKit/537.36 (KHTML, like Gecko) Chrome/89.0.4389.82 Safari/537.36'}\n",
    "response = requests.get(url, headers=headers)\n",
    "soup = BeautifulSoup(response.text, 'lxml')\n",
    "\n",
    "'$0' in soup # prints true if '$0' found in soup, shows beautifulsoup didn't work"
   ]
  },
  {
   "cell_type": "code",
   "execution_count": 19,
   "metadata": {},
   "outputs": [
    {
     "data": {
      "text/plain": [
       "True"
      ]
     },
     "execution_count": 19,
     "metadata": {},
     "output_type": "execute_result"
    }
   ],
   "source": [
    "# Trying Selenium\n",
    "\n",
    "url = \"https://www.creditkarma.com/creditcard/CCDiscover06\"\n",
    "driver = webdriver.Chrome('/Users/ashutayal/downloads/chromedriver')\n",
    "driver.get(url)\n",
    "time.sleep(5) \n",
    "html = driver.page_source \n",
    "soup = BeautifulSoup(html, \"html.parser\")\n",
    "test = '$0' in soup.text # Testing to see if scrape successful\n",
    "driver.close()\n",
    "test # prints true if '$0' found in soup"
   ]
  },
  {
   "cell_type": "code",
   "execution_count": 20,
   "metadata": {},
   "outputs": [
    {
     "data": {
      "text/plain": [
       "[<dl class=\"flex justify-between f5 lh-copy bb b--light-gray mv0 mv1 pv2 ckoffer-bn--last-of-type\"><dt class=\"ttc ck-black-70\"><span><span>Annual fee</span></span></dt><dd class=\"tr\"><span><span>$0</span></span></dd></dl>,\n",
       " <dl class=\"flex justify-between f5 lh-copy bb b--light-gray mv0 mv1 pv2 ckoffer-bn--last-of-type\"><dt class=\"ttc ck-black-70\"><span><span>Intro purchase APR</span></span></dt><dd class=\"tr\"><span><span>N/A</span></span></dd></dl>,\n",
       " <dl class=\"flex justify-between f5 lh-copy bb b--light-gray mv0 mv1 pv2 ckoffer-bn--last-of-type\"><dt class=\"ttc ck-black-70\"><span><span>Regular purchase APR</span></span></dt><dd class=\"tr\"><span><span>22.99% Variable</span></span></dd></dl>,\n",
       " <dl class=\"flex justify-between f5 lh-copy bb b--light-gray mv0 mv1 pv2 ckoffer-bn--last-of-type\"><dt class=\"ttc ck-black-70\"><span><span>Intro balance transfer APR</span></span></dt><dd class=\"tr\"><span><span>10.99% for 6 Months</span></span></dd></dl>,\n",
       " <dl class=\"flex justify-between f5 lh-copy bb b--light-gray mv0 mv1 pv2 ckoffer-bn--last-of-type\"><dt class=\"ttc ck-black-70\"><span><span>Regular balance transfer APR</span></span></dt><dd class=\"tr\"><span><span>22.99% Variable</span></span></dd></dl>,\n",
       " <dl class=\"flex justify-between f5 lh-copy bb b--light-gray mv0 mv1 pv2 ckoffer-bn--last-of-type\"><dt class=\"ttc ck-black-70\"><span><span>Cash advance APR</span></span></dt><dd class=\"tr\"><span><span>24.99% Variable</span></span></dd></dl>,\n",
       " <dl class=\"flex justify-between f5 lh-copy bb b--light-gray mv0 mv1 pv2 ckoffer-bn--last-of-type\"><dt class=\"ttc ck-black-70\"><span><span>Cash advance fee</span></span></dt><dd class=\"tr\"><span><span>See Terms*</span></span></dd></dl>,\n",
       " <dl class=\"flex justify-between f5 lh-copy bb b--light-gray mv0 mv1 pv2 ckoffer-bn--last-of-type\"><dt class=\"ttc ck-black-70\"><span><span>Late fee</span></span></dt><dd class=\"tr\"><span><span>See Terms*</span></span></dd></dl>,\n",
       " <dl class=\"flex justify-between f5 lh-copy bb b--light-gray mv0 mv1 pv2 ckoffer-bn--last-of-type\"><dt class=\"ttc ck-black-70\"><span><span>Penalty APR</span></span></dt><dd class=\"tr\"><span><span>See Terms*</span></span></dd></dl>,\n",
       " <dl class=\"flex justify-between f5 lh-copy bb b--light-gray mv0 mv1 pv2 ckoffer-bn--last-of-type\"><dt class=\"ttc ck-black-70\"><span><span>Balance transfer fee</span></span></dt><dd class=\"tr\"><span><span>3% intro balance transfer fee, up to 5% fee on future balance transfers (see terms)*</span></span></dd></dl>,\n",
       " <dl class=\"flex justify-between f5 lh-copy bb b--light-gray mv0 mv1 pv2 ckoffer-bn--last-of-type\"><dt class=\"ttc ck-black-70\"><span><span>Foreign transaction fee</span></span></dt><dd class=\"tr\"><span><span>None</span></span></dd></dl>,\n",
       " <dl class=\"flex justify-between f5 lh-copy bb b--light-gray mv0 mv1 pv2 ckoffer-bn--last-of-type\"><dt class=\"ttc ck-black-70\"><span><span>Return payment fee</span></span></dt><dd class=\"tr\"><span><span>See Terms*</span></span></dd></dl>]"
      ]
     },
     "execution_count": 20,
     "metadata": {},
     "output_type": "execute_result"
    }
   ],
   "source": [
    "# Fees & Rates\n",
    "fees = soup.find_all('dl', class_ = 'flex justify-between f5 lh-copy bb b--light-gray mv0 mv1 pv2 ckoffer-bn--last-of-type')\n",
    "fees"
   ]
  },
  {
   "cell_type": "code",
   "execution_count": 21,
   "metadata": {},
   "outputs": [
    {
     "data": {
      "text/plain": [
       "'$0'"
      ]
     },
     "execution_count": 21,
     "metadata": {},
     "output_type": "execute_result"
    }
   ],
   "source": [
    "# Annual Fee\n",
    "fee_annual = fees[0].find_all(\"span\")[3].text\n",
    "fee_annual"
   ]
  },
  {
   "cell_type": "code",
   "execution_count": 22,
   "metadata": {},
   "outputs": [
    {
     "data": {
      "text/plain": [
       "'22.99% Variable'"
      ]
     },
     "execution_count": 22,
     "metadata": {},
     "output_type": "execute_result"
    }
   ],
   "source": [
    "# Regular Purchase APR\n",
    "apr_purchase = fees[2].find_all(\"span\")[3].text\n",
    "apr_purchase"
   ]
  },
  {
   "cell_type": "code",
   "execution_count": 23,
   "metadata": {},
   "outputs": [
    {
     "data": {
      "text/plain": [
       "'22.99% Variable'"
      ]
     },
     "execution_count": 23,
     "metadata": {},
     "output_type": "execute_result"
    }
   ],
   "source": [
    "# Balance Transfer APR\n",
    "apr_transfer = fees[4].find_all(\"span\")[3].text\n",
    "apr_transfer"
   ]
  },
  {
   "cell_type": "code",
   "execution_count": 24,
   "metadata": {},
   "outputs": [
    {
     "data": {
      "text/plain": [
       "'24.99% Variable'"
      ]
     },
     "execution_count": 24,
     "metadata": {},
     "output_type": "execute_result"
    }
   ],
   "source": [
    "# Cash Advance APR\n",
    "apr_cash = fees[5].find_all(\"span\")[3].text\n",
    "apr_cash"
   ]
  },
  {
   "cell_type": "code",
   "execution_count": 25,
   "metadata": {},
   "outputs": [
    {
     "data": {
      "text/plain": [
       "'See Terms*'"
      ]
     },
     "execution_count": 25,
     "metadata": {},
     "output_type": "execute_result"
    }
   ],
   "source": [
    "# Cash Advance Fee\n",
    "fee_cash = fees[6].find_all(\"span\")[3].text\n",
    "fee_cash"
   ]
  },
  {
   "cell_type": "code",
   "execution_count": 26,
   "metadata": {},
   "outputs": [
    {
     "data": {
      "text/html": [
       "<div>\n",
       "<style scoped>\n",
       "    .dataframe tbody tr th:only-of-type {\n",
       "        vertical-align: middle;\n",
       "    }\n",
       "\n",
       "    .dataframe tbody tr th {\n",
       "        vertical-align: top;\n",
       "    }\n",
       "\n",
       "    .dataframe thead th {\n",
       "        text-align: right;\n",
       "    }\n",
       "</style>\n",
       "<table border=\"1\" class=\"dataframe\">\n",
       "  <thead>\n",
       "    <tr style=\"text-align: right;\">\n",
       "      <th></th>\n",
       "      <th>Variable</th>\n",
       "      <th>creditkarma.com</th>\n",
       "    </tr>\n",
       "  </thead>\n",
       "  <tbody>\n",
       "    <tr>\n",
       "      <th>0</th>\n",
       "      <td>Annual Fee</td>\n",
       "      <td>$0</td>\n",
       "    </tr>\n",
       "    <tr>\n",
       "      <th>1</th>\n",
       "      <td>Regular Puchase APR</td>\n",
       "      <td>22.99% Variable</td>\n",
       "    </tr>\n",
       "    <tr>\n",
       "      <th>2</th>\n",
       "      <td>Regular Balance Transfer APR</td>\n",
       "      <td>22.99% Variable</td>\n",
       "    </tr>\n",
       "    <tr>\n",
       "      <th>3</th>\n",
       "      <td>Cash Advance APR</td>\n",
       "      <td>24.99% Variable</td>\n",
       "    </tr>\n",
       "    <tr>\n",
       "      <th>4</th>\n",
       "      <td>Cash Advance Fee</td>\n",
       "      <td>See Terms*</td>\n",
       "    </tr>\n",
       "  </tbody>\n",
       "</table>\n",
       "</div>"
      ],
      "text/plain": [
       "                       Variable  creditkarma.com\n",
       "0                    Annual Fee               $0\n",
       "1           Regular Puchase APR  22.99% Variable\n",
       "2  Regular Balance Transfer APR  22.99% Variable\n",
       "3              Cash Advance APR  24.99% Variable\n",
       "4              Cash Advance Fee       See Terms*"
      ]
     },
     "execution_count": 26,
     "metadata": {},
     "output_type": "execute_result"
    }
   ],
   "source": [
    "creditkarma = summary('creditkarma.com')\n",
    "creditkarma"
   ]
  },
  {
   "cell_type": "markdown",
   "metadata": {},
   "source": [
    "# Google Sheet"
   ]
  },
  {
   "cell_type": "code",
   "execution_count": 27,
   "metadata": {},
   "outputs": [],
   "source": [
    "# Google Sheet\n",
    "\n",
    "url = 'https://docs.google.com/spreadsheets/d/1sEMFJbVyFeEsy87fRRe9BzHMDfi7SssrSywH7W02JSw/edit?usp=sharing'\n",
    "response = requests.get(url, headers=headers)\n",
    "soup = BeautifulSoup(response.text, 'lxml')\n",
    "\n",
    "tables = soup.find_all(\"table\")"
   ]
  },
  {
   "cell_type": "code",
   "execution_count": 28,
   "metadata": {},
   "outputs": [],
   "source": [
    "# source: https://stackoverflow.com/questions/61152242/how-to-obtain-data-from-a-public-google-sheets-using-python\n",
    "index = 0\n",
    "for table in tables:\n",
    "    with open(str(index) + \".csv\", \"w\") as f:\n",
    "        wr = csv.writer(f, quoting=csv.QUOTE_NONNUMERIC, lineterminator='\\n')\n",
    "        wr.writerows([[td.text for td in row.find_all(\"td\")] for row in table.find_all(\"tr\")])\n",
    "    index = index + 1\n",
    "\n",
    "# outputs csv to WD as '0.csv'"
   ]
  },
  {
   "cell_type": "code",
   "execution_count": 29,
   "metadata": {},
   "outputs": [
    {
     "data": {
      "text/html": [
       "<div>\n",
       "<style scoped>\n",
       "    .dataframe tbody tr th:only-of-type {\n",
       "        vertical-align: middle;\n",
       "    }\n",
       "\n",
       "    .dataframe tbody tr th {\n",
       "        vertical-align: top;\n",
       "    }\n",
       "\n",
       "    .dataframe thead th {\n",
       "        text-align: right;\n",
       "    }\n",
       "</style>\n",
       "<table border=\"1\" class=\"dataframe\">\n",
       "  <thead>\n",
       "    <tr style=\"text-align: right;\">\n",
       "      <th></th>\n",
       "      <th>CatalogItemId</th>\n",
       "      <th>Name</th>\n",
       "      <th>CurrentPrice</th>\n",
       "      <th>CurrentPriceDescription</th>\n",
       "      <th>Currency</th>\n",
       "      <th>IntroPurchaseApr</th>\n",
       "      <th>IntroPurchaseAprType</th>\n",
       "      <th>IntroPurchaseAprDescription</th>\n",
       "      <th>IntroPurchaseAprPeriod</th>\n",
       "      <th>IntroPurchaseAprPeriodType</th>\n",
       "      <th>...</th>\n",
       "      <th>CashAdvanceFeeDescription</th>\n",
       "      <th>LatePaymentFee</th>\n",
       "      <th>LatePaymentFeeDescription</th>\n",
       "      <th>ReturnCheckFee</th>\n",
       "      <th>ForeignTransactionFee</th>\n",
       "      <th>ForeignTransactionFeeDescription</th>\n",
       "      <th>MinimumDeposit</th>\n",
       "      <th>RewardsType</th>\n",
       "      <th>RewardsRate</th>\n",
       "      <th>RewardsRate2</th>\n",
       "    </tr>\n",
       "  </thead>\n",
       "  <tbody>\n",
       "    <tr>\n",
       "      <th>0</th>\n",
       "      <td>109.0</td>\n",
       "      <td>Discover it® Secured Credit Card</td>\n",
       "      <td>0.0</td>\n",
       "      <td>$0</td>\n",
       "      <td>USD</td>\n",
       "      <td>NaN</td>\n",
       "      <td>NaN</td>\n",
       "      <td>NaN</td>\n",
       "      <td>NaN</td>\n",
       "      <td>NaN</td>\n",
       "      <td>...</td>\n",
       "      <td>NaN</td>\n",
       "      <td>NaN</td>\n",
       "      <td>NaN</td>\n",
       "      <td>NaN</td>\n",
       "      <td>0.0</td>\n",
       "      <td>None</td>\n",
       "      <td>200.0</td>\n",
       "      <td>Cashback</td>\n",
       "      <td>2%</td>\n",
       "      <td>1%</td>\n",
       "    </tr>\n",
       "  </tbody>\n",
       "</table>\n",
       "<p>1 rows × 43 columns</p>\n",
       "</div>"
      ],
      "text/plain": [
       "   CatalogItemId                              Name  CurrentPrice  \\\n",
       "0          109.0  Discover it® Secured Credit Card           0.0   \n",
       "\n",
       "  CurrentPriceDescription Currency  IntroPurchaseApr  IntroPurchaseAprType  \\\n",
       "0                      $0      USD               NaN                   NaN   \n",
       "\n",
       "   IntroPurchaseAprDescription  IntroPurchaseAprPeriod  \\\n",
       "0                          NaN                     NaN   \n",
       "\n",
       "   IntroPurchaseAprPeriodType  ...  CashAdvanceFeeDescription  LatePaymentFee  \\\n",
       "0                         NaN  ...                        NaN             NaN   \n",
       "\n",
       "  LatePaymentFeeDescription ReturnCheckFee  ForeignTransactionFee  \\\n",
       "0                       NaN            NaN                    0.0   \n",
       "\n",
       "   ForeignTransactionFeeDescription MinimumDeposit RewardsType  RewardsRate  \\\n",
       "0                              None          200.0    Cashback           2%   \n",
       "\n",
       "  RewardsRate2  \n",
       "0           1%  \n",
       "\n",
       "[1 rows x 43 columns]"
      ]
     },
     "execution_count": 29,
     "metadata": {},
     "output_type": "execute_result"
    }
   ],
   "source": [
    "path = os.getcwd()\n",
    "sheet = pd.read_csv(os.path.join(path,'0.csv'))\n",
    "sheet = sheet.head(1) # write and read successful\n",
    "sheet"
   ]
  },
  {
   "cell_type": "code",
   "execution_count": 30,
   "metadata": {},
   "outputs": [
    {
     "data": {
      "text/plain": [
       "'$0'"
      ]
     },
     "execution_count": 30,
     "metadata": {},
     "output_type": "execute_result"
    }
   ],
   "source": [
    "fee_annual = sheet['CurrentPriceDescription'][0]\n",
    "fee_annual"
   ]
  },
  {
   "cell_type": "code",
   "execution_count": 31,
   "metadata": {},
   "outputs": [
    {
     "data": {
      "text/plain": [
       "'22.99% Variable APR'"
      ]
     },
     "execution_count": 31,
     "metadata": {},
     "output_type": "execute_result"
    }
   ],
   "source": [
    "apr_purchase = sheet['NonIntroPurchaseAprDescription'][0]\n",
    "apr_purchase"
   ]
  },
  {
   "cell_type": "code",
   "execution_count": 32,
   "metadata": {},
   "outputs": [
    {
     "data": {
      "text/plain": [
       "nan"
      ]
     },
     "execution_count": 32,
     "metadata": {},
     "output_type": "execute_result"
    }
   ],
   "source": [
    "fee_cash = sheet['CashAdvanceFeeDescription'][0]\n",
    "fee_cash"
   ]
  },
  {
   "cell_type": "code",
   "execution_count": 33,
   "metadata": {},
   "outputs": [
    {
     "data": {
      "text/plain": [
       "'24.99% Variable APR'"
      ]
     },
     "execution_count": 33,
     "metadata": {},
     "output_type": "execute_result"
    }
   ],
   "source": [
    "apr_cash = sheet['CashAdvanceAprDescription'][0]\n",
    "apr_cash"
   ]
  },
  {
   "cell_type": "code",
   "execution_count": 34,
   "metadata": {},
   "outputs": [
    {
     "data": {
      "text/plain": [
       "'22.99% Variable APR'"
      ]
     },
     "execution_count": 34,
     "metadata": {},
     "output_type": "execute_result"
    }
   ],
   "source": [
    "apr_transfer = sheet['NonIntroTransferAprDescription'][0]\n",
    "apr_transfer"
   ]
  },
  {
   "cell_type": "code",
   "execution_count": 35,
   "metadata": {},
   "outputs": [
    {
     "data": {
      "text/html": [
       "<div>\n",
       "<style scoped>\n",
       "    .dataframe tbody tr th:only-of-type {\n",
       "        vertical-align: middle;\n",
       "    }\n",
       "\n",
       "    .dataframe tbody tr th {\n",
       "        vertical-align: top;\n",
       "    }\n",
       "\n",
       "    .dataframe thead th {\n",
       "        text-align: right;\n",
       "    }\n",
       "</style>\n",
       "<table border=\"1\" class=\"dataframe\">\n",
       "  <thead>\n",
       "    <tr style=\"text-align: right;\">\n",
       "      <th></th>\n",
       "      <th>Variable</th>\n",
       "      <th>googlesheets</th>\n",
       "    </tr>\n",
       "  </thead>\n",
       "  <tbody>\n",
       "    <tr>\n",
       "      <th>0</th>\n",
       "      <td>Annual Fee</td>\n",
       "      <td>$0</td>\n",
       "    </tr>\n",
       "    <tr>\n",
       "      <th>1</th>\n",
       "      <td>Regular Puchase APR</td>\n",
       "      <td>22.99% Variable APR</td>\n",
       "    </tr>\n",
       "    <tr>\n",
       "      <th>2</th>\n",
       "      <td>Regular Balance Transfer APR</td>\n",
       "      <td>22.99% Variable APR</td>\n",
       "    </tr>\n",
       "    <tr>\n",
       "      <th>3</th>\n",
       "      <td>Cash Advance APR</td>\n",
       "      <td>24.99% Variable APR</td>\n",
       "    </tr>\n",
       "    <tr>\n",
       "      <th>4</th>\n",
       "      <td>Cash Advance Fee</td>\n",
       "      <td>NaN</td>\n",
       "    </tr>\n",
       "  </tbody>\n",
       "</table>\n",
       "</div>"
      ],
      "text/plain": [
       "                       Variable         googlesheets\n",
       "0                    Annual Fee                   $0\n",
       "1           Regular Puchase APR  22.99% Variable APR\n",
       "2  Regular Balance Transfer APR  22.99% Variable APR\n",
       "3              Cash Advance APR  24.99% Variable APR\n",
       "4              Cash Advance Fee                  NaN"
      ]
     },
     "execution_count": 35,
     "metadata": {},
     "output_type": "execute_result"
    }
   ],
   "source": [
    "googlesheets = summary('googlesheets')\n",
    "googlesheets"
   ]
  },
  {
   "cell_type": "code",
   "execution_count": 36,
   "metadata": {},
   "outputs": [
    {
     "data": {
      "text/html": [
       "<div>\n",
       "<style scoped>\n",
       "    .dataframe tbody tr th:only-of-type {\n",
       "        vertical-align: middle;\n",
       "    }\n",
       "\n",
       "    .dataframe tbody tr th {\n",
       "        vertical-align: top;\n",
       "    }\n",
       "\n",
       "    .dataframe thead th {\n",
       "        text-align: right;\n",
       "    }\n",
       "</style>\n",
       "<table border=\"1\" class=\"dataframe\">\n",
       "  <thead>\n",
       "    <tr style=\"text-align: right;\">\n",
       "      <th></th>\n",
       "      <th>Variable</th>\n",
       "      <th>creditkarma.com</th>\n",
       "      <th>discovercard.com</th>\n",
       "      <th>googlesheets</th>\n",
       "    </tr>\n",
       "  </thead>\n",
       "  <tbody>\n",
       "    <tr>\n",
       "      <th>0</th>\n",
       "      <td>Annual Fee</td>\n",
       "      <td>$0</td>\n",
       "      <td>None</td>\n",
       "      <td>$0</td>\n",
       "    </tr>\n",
       "    <tr>\n",
       "      <th>1</th>\n",
       "      <td>Regular Puchase APR</td>\n",
       "      <td>22.99% Variable</td>\n",
       "      <td>22.99%</td>\n",
       "      <td>22.99% Variable APR</td>\n",
       "    </tr>\n",
       "    <tr>\n",
       "      <th>2</th>\n",
       "      <td>Regular Balance Transfer APR</td>\n",
       "      <td>22.99% Variable</td>\n",
       "      <td>10.99%</td>\n",
       "      <td>22.99% Variable APR</td>\n",
       "    </tr>\n",
       "    <tr>\n",
       "      <th>3</th>\n",
       "      <td>Cash Advance APR</td>\n",
       "      <td>24.99% Variable</td>\n",
       "      <td>24.99%</td>\n",
       "      <td>24.99% Variable APR</td>\n",
       "    </tr>\n",
       "    <tr>\n",
       "      <th>4</th>\n",
       "      <td>Cash Advance Fee</td>\n",
       "      <td>See Terms*</td>\n",
       "      <td>Either $10 or 5% of the amount of each cash ad...</td>\n",
       "      <td>NaN</td>\n",
       "    </tr>\n",
       "  </tbody>\n",
       "</table>\n",
       "</div>"
      ],
      "text/plain": [
       "                       Variable  creditkarma.com  \\\n",
       "0                    Annual Fee               $0   \n",
       "1           Regular Puchase APR  22.99% Variable   \n",
       "2  Regular Balance Transfer APR  22.99% Variable   \n",
       "3              Cash Advance APR  24.99% Variable   \n",
       "4              Cash Advance Fee       See Terms*   \n",
       "\n",
       "                                    discovercard.com         googlesheets  \n",
       "0                                               None                   $0  \n",
       "1                                             22.99%  22.99% Variable APR  \n",
       "2                                             10.99%  22.99% Variable APR  \n",
       "3                                             24.99%  24.99% Variable APR  \n",
       "4  Either $10 or 5% of the amount of each cash ad...                  NaN  "
      ]
     },
     "execution_count": 36,
     "metadata": {},
     "output_type": "execute_result"
    }
   ],
   "source": [
    "# join all tables\n",
    "summary_table = pd.merge(pd.merge(creditkarma, discover, on = 'Variable'), googlesheets, on = 'Variable')\n",
    "summary_table"
   ]
  },
  {
   "cell_type": "code",
   "execution_count": 37,
   "metadata": {},
   "outputs": [],
   "source": [
    "# Output to csv\n",
    "summary_table.to_csv('final_df.csv') # outputs to WD\n"
   ]
  },
  {
   "cell_type": "code",
   "execution_count": null,
   "metadata": {},
   "outputs": [],
   "source": []
  }
 ],
 "metadata": {
  "kernelspec": {
   "display_name": "Python 3",
   "language": "python",
   "name": "python3"
  },
  "language_info": {
   "codemirror_mode": {
    "name": "ipython",
    "version": 3
   },
   "file_extension": ".py",
   "mimetype": "text/x-python",
   "name": "python",
   "nbconvert_exporter": "python",
   "pygments_lexer": "ipython3",
   "version": "3.7.6"
  }
 },
 "nbformat": 4,
 "nbformat_minor": 4
}
